{
 "cells": [
  {
   "cell_type": "code",
   "execution_count": 40,
   "metadata": {},
   "outputs": [
    {
     "data": {
      "text/plain": [
       "(5986, 21)"
      ]
     },
     "execution_count": 40,
     "metadata": {},
     "output_type": "execute_result"
    }
   ],
   "source": [
    "import pandas as pd\n",
    "\n",
    "df = pd.read_csv('datasets/churn.csv')\n",
    "\n",
    "df.columns\n",
    "df.shape"
   ]
  },
  {
   "cell_type": "code",
   "execution_count": 71,
   "metadata": {},
   "outputs": [
    {
     "data": {
      "text/plain": [
       "{'customerID': 'Malek',\n",
       " 'gender': 'Female',\n",
       " 'SeniorCitizen': 0,\n",
       " 'Partner': 'No',\n",
       " 'Dependents': 'No',\n",
       " 'tenure': 44,\n",
       " 'PhoneService': 'Yes',\n",
       " 'MultipleLines': 'No',\n",
       " 'InternetService': 'Fiber optic',\n",
       " 'OnlineSecurity': 'No',\n",
       " 'OnlineBackup': 'Yes',\n",
       " 'DeviceProtection': 'Yes',\n",
       " 'TechSupport': 'No',\n",
       " 'StreamingTV': 'Yes',\n",
       " 'StreamingMovies': 'No',\n",
       " 'Contract': 'Month-to-month',\n",
       " 'PaperlessBilling': 'Yes',\n",
       " 'PaymentMethod': 'Credit card (automatic)',\n",
       " 'MonthlyCharges': 88.15,\n",
       " 'TotalCharges': 3973.2}"
      ]
     },
     "execution_count": 71,
     "metadata": {},
     "output_type": "execute_result"
    }
   ],
   "source": [
    "new_feature={\n",
    "\"customerID\":\"Malek\",\n",
    "\"gender\": \"Female\",\n",
    "\"SeniorCitizen\": 0,\n",
    "\"Partner\": \"No\",\n",
    "\"Dependents\": \"No\",\n",
    "\"tenure\": 44,\n",
    "\"PhoneService\": \"Yes\",\n",
    "\"MultipleLines\": \"No\",\n",
    "\"InternetService\": \"Fiber optic\",\n",
    "\"OnlineSecurity\": \"No\",\n",
    "\"OnlineBackup\": \"Yes\",\n",
    "\"DeviceProtection\": \"Yes\",\n",
    "\"TechSupport\": \"No\",\n",
    "\"StreamingTV\": \"Yes\",\n",
    "\"StreamingMovies\": \"No\",\n",
    "\"Contract\": \"Month-to-month\",\n",
    "\"PaperlessBilling\": \"Yes\",\n",
    "\"PaymentMethod\": \"Credit card (automatic)\",\n",
    "\"MonthlyCharges\": 88.15,\n",
    "\"TotalCharges\": 3973.2, \n",
    "} \n",
    "\n",
    "new_feature2={\n",
    "\"customerID\": \"malek2\",\t\n",
    "\"gender\": \"Male\",\t\n",
    "\"SeniorCitizen\":0,\n",
    "\"Partner\": \"Yes\",\t\n",
    "\"Dependents\":\"No\",\t\n",
    "\"tenure\": 14,\t\n",
    "\"PhoneService\": \"No\",\t\n",
    "\"MultipleLines\": \"No phone service\",\n",
    "\"InternetService\":\"DSL\",\t\n",
    "\"OnlineSecurity\":\"No\",\t\n",
    "\"OnlineBackup\": \"No\",\t\n",
    "\"DeviceProtection\":\"No\"\t,\n",
    "\"TechSupport\":\"No\",\t\n",
    "\"StreamingTV\":\"Yes\"\t,\n",
    "\"StreamingMovies\":\"Yes\"\t,\n",
    "\"Contract\": \"Month-to-month\",\t\n",
    "\"PaperlessBilling\":\"No\" ,\n",
    "\"PaymentMethod\": \"Electronic check\"\t,\n",
    "\"MonthlyCharges\": 46.35\t,\n",
    "\"TotalCharges\": 667.7\t\n",
    "}\n",
    "\n",
    "#new_feature=pd.DataFrame([new_feature])\n",
    "new_feature"
   ]
  },
  {
   "cell_type": "code",
   "execution_count": 72,
   "metadata": {},
   "outputs": [
    {
     "data": {
      "text/html": [
       "<div>\n",
       "<style scoped>\n",
       "    .dataframe tbody tr th:only-of-type {\n",
       "        vertical-align: middle;\n",
       "    }\n",
       "\n",
       "    .dataframe tbody tr th {\n",
       "        vertical-align: top;\n",
       "    }\n",
       "\n",
       "    .dataframe thead th {\n",
       "        text-align: right;\n",
       "    }\n",
       "</style>\n",
       "<table border=\"1\" class=\"dataframe\">\n",
       "  <thead>\n",
       "    <tr style=\"text-align: right;\">\n",
       "      <th></th>\n",
       "      <th>customerID</th>\n",
       "      <th>gender</th>\n",
       "      <th>SeniorCitizen</th>\n",
       "      <th>Partner</th>\n",
       "      <th>Dependents</th>\n",
       "      <th>tenure</th>\n",
       "      <th>PhoneService</th>\n",
       "      <th>MultipleLines</th>\n",
       "      <th>InternetService</th>\n",
       "      <th>OnlineSecurity</th>\n",
       "      <th>...</th>\n",
       "      <th>DeviceProtection</th>\n",
       "      <th>TechSupport</th>\n",
       "      <th>StreamingTV</th>\n",
       "      <th>StreamingMovies</th>\n",
       "      <th>Contract</th>\n",
       "      <th>PaperlessBilling</th>\n",
       "      <th>PaymentMethod</th>\n",
       "      <th>MonthlyCharges</th>\n",
       "      <th>TotalCharges</th>\n",
       "      <th>Churn</th>\n",
       "    </tr>\n",
       "  </thead>\n",
       "  <tbody>\n",
       "    <tr>\n",
       "      <th>5987</th>\n",
       "      <td>Malek</td>\n",
       "      <td>Female</td>\n",
       "      <td>0</td>\n",
       "      <td>No</td>\n",
       "      <td>No</td>\n",
       "      <td>44</td>\n",
       "      <td>Yes</td>\n",
       "      <td>No</td>\n",
       "      <td>Fiber optic</td>\n",
       "      <td>No</td>\n",
       "      <td>...</td>\n",
       "      <td>Yes</td>\n",
       "      <td>No</td>\n",
       "      <td>Yes</td>\n",
       "      <td>No</td>\n",
       "      <td>Month-to-month</td>\n",
       "      <td>Yes</td>\n",
       "      <td>Credit card (automatic)</td>\n",
       "      <td>88.15</td>\n",
       "      <td>3973.2</td>\n",
       "      <td>NaN</td>\n",
       "    </tr>\n",
       "    <tr>\n",
       "      <th>5988</th>\n",
       "      <td>Malek</td>\n",
       "      <td>Female</td>\n",
       "      <td>0</td>\n",
       "      <td>No</td>\n",
       "      <td>No</td>\n",
       "      <td>44</td>\n",
       "      <td>Yes</td>\n",
       "      <td>No</td>\n",
       "      <td>Fiber optic</td>\n",
       "      <td>No</td>\n",
       "      <td>...</td>\n",
       "      <td>Yes</td>\n",
       "      <td>No</td>\n",
       "      <td>Yes</td>\n",
       "      <td>No</td>\n",
       "      <td>Month-to-month</td>\n",
       "      <td>Yes</td>\n",
       "      <td>Credit card (automatic)</td>\n",
       "      <td>88.15</td>\n",
       "      <td>3973.2</td>\n",
       "      <td>NaN</td>\n",
       "    </tr>\n",
       "    <tr>\n",
       "      <th>5989</th>\n",
       "      <td>Malek</td>\n",
       "      <td>Female</td>\n",
       "      <td>0</td>\n",
       "      <td>No</td>\n",
       "      <td>No</td>\n",
       "      <td>44</td>\n",
       "      <td>Yes</td>\n",
       "      <td>No</td>\n",
       "      <td>Fiber optic</td>\n",
       "      <td>No</td>\n",
       "      <td>...</td>\n",
       "      <td>Yes</td>\n",
       "      <td>No</td>\n",
       "      <td>Yes</td>\n",
       "      <td>No</td>\n",
       "      <td>Month-to-month</td>\n",
       "      <td>Yes</td>\n",
       "      <td>Credit card (automatic)</td>\n",
       "      <td>88.15</td>\n",
       "      <td>3973.2</td>\n",
       "      <td>NaN</td>\n",
       "    </tr>\n",
       "  </tbody>\n",
       "</table>\n",
       "<p>3 rows × 21 columns</p>\n",
       "</div>"
      ],
      "text/plain": [
       "     customerID  gender  SeniorCitizen Partner Dependents  tenure  \\\n",
       "5987      Malek  Female              0      No         No      44   \n",
       "5988      Malek  Female              0      No         No      44   \n",
       "5989      Malek  Female              0      No         No      44   \n",
       "\n",
       "     PhoneService MultipleLines InternetService OnlineSecurity  ...  \\\n",
       "5987          Yes            No     Fiber optic             No  ...   \n",
       "5988          Yes            No     Fiber optic             No  ...   \n",
       "5989          Yes            No     Fiber optic             No  ...   \n",
       "\n",
       "     DeviceProtection TechSupport StreamingTV StreamingMovies        Contract  \\\n",
       "5987              Yes          No         Yes              No  Month-to-month   \n",
       "5988              Yes          No         Yes              No  Month-to-month   \n",
       "5989              Yes          No         Yes              No  Month-to-month   \n",
       "\n",
       "     PaperlessBilling            PaymentMethod MonthlyCharges  TotalCharges  \\\n",
       "5987              Yes  Credit card (automatic)          88.15        3973.2   \n",
       "5988              Yes  Credit card (automatic)          88.15        3973.2   \n",
       "5989              Yes  Credit card (automatic)          88.15        3973.2   \n",
       "\n",
       "     Churn  \n",
       "5987   NaN  \n",
       "5988   NaN  \n",
       "5989   NaN  \n",
       "\n",
       "[3 rows x 21 columns]"
      ]
     },
     "execution_count": 72,
     "metadata": {},
     "output_type": "execute_result"
    }
   ],
   "source": [
    "indexfeature=df.shape[0]+1\n",
    "df=df.append(pd.DataFrame([new_feature2], index=[indexfeature],columns=df.columns))\n",
    "df.shape\n",
    "\n",
    "#r=newdf.loc[newdf[\"customerID\"]=='7010-BRBUU']\n",
    "r=df.loc[df[\"customerID\"]=='Malek']\n",
    "#df.tail()\n",
    "r\n",
    "\n"
   ]
  },
  {
   "cell_type": "code",
   "execution_count": 74,
   "metadata": {},
   "outputs": [],
   "source": [
    "from sklearn.preprocessing import StandardScaler\n",
    "df_clean = df.copy()\n",
    "df_clean=df_clean.drop(columns=['customerID'])\n",
    "df_clean.TotalCharges = pd.to_numeric(df_clean.TotalCharges, errors = 'coerce')\n",
    "df_clean['TotalCharges'] = df_clean['TotalCharges'].fillna(0)\n",
    "for key,col in enumerate(df_clean.loc[:, df_clean.dtypes == object]):\n",
    "    df_clean[col].replace(df_clean[col].unique(),list(range(0,len(df_clean[col].unique()))),inplace=True)\n",
    "# Data separation for modelisation:\n",
    "X = df_clean.drop(\"Churn\", axis = 1)\n",
    "y = df_clean.Churn\n",
    "\n",
    "# Data standardisation:\n",
    "scaler=StandardScaler()\n",
    "X_scaled_=scaler.fit(X).transform(X)\n",
    "X_scaled=pd.DataFrame(scaler.fit(X).transform(X))\n",
    "X_scaled_unbalaleced, y_unbalaleced = X_scaled, y "
   ]
  },
  {
   "cell_type": "code",
   "execution_count": 76,
   "metadata": {},
   "outputs": [
    {
     "name": "stdout",
     "output_type": "stream",
     "text": [
      "1\n"
     ]
    }
   ],
   "source": [
    "#retrouver notre éléments dans les données standardisés à l'aide de l'index\n",
    "import numpy  as np\n",
    "X_new_feature=X_scaled.iloc[indexfeature-1]\n",
    "\n",
    "model=\"knn\"\n",
    "\n",
    "#Chargement des models\n",
    "with open('models.bin', 'rb') as fichier:\n",
    "        models= joblib.load(fichier)\n",
    "#Vérification de la présence du model souhaité\n",
    "for m in models.keys():\n",
    "    if model == m : \n",
    "        X_new_feature=X_new_feature.values.reshape(1,-1)\n",
    "        print(models[m][\"model\"].predict(X_new_feature)[0]) \n",
    "    else: \n",
    "        pass\n",
    "        #return models[m].fit()"
   ]
  },
  {
   "cell_type": "code",
   "execution_count": 73,
   "metadata": {},
   "outputs": [
    {
     "data": {
      "text/plain": [
       "5990"
      ]
     },
     "execution_count": 73,
     "metadata": {},
     "output_type": "execute_result"
    }
   ],
   "source": [
    "indexfeature"
   ]
  }
 ],
 "metadata": {
  "interpreter": {
   "hash": "916dbcbb3f70747c44a77c7bcd40155683ae19c65e1c03b4aa3499c5328201f1"
  },
  "kernelspec": {
   "display_name": "Python 3.8.10 64-bit",
   "language": "python",
   "name": "python3"
  },
  "language_info": {
   "codemirror_mode": {
    "name": "ipython",
    "version": 3
   },
   "file_extension": ".py",
   "mimetype": "text/x-python",
   "name": "python",
   "nbconvert_exporter": "python",
   "pygments_lexer": "ipython3",
   "version": "3.8.10"
  },
  "orig_nbformat": 4
 },
 "nbformat": 4,
 "nbformat_minor": 2
}
